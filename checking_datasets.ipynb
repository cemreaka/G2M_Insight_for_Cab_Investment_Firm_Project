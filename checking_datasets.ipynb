{
 "cells": [
  {
   "cell_type": "code",
   "execution_count": 1,
   "id": "67383829-c133-4d07-959b-b04e8c9c5f75",
   "metadata": {},
   "outputs": [],
   "source": [
    "import pandas as p"
   ]
  },
  {
   "cell_type": "code",
   "execution_count": 2,
   "id": "0570238c-f5c2-4ec8-af30-12530bcb21f0",
   "metadata": {},
   "outputs": [],
   "source": [
    "cab_data = p.read_csv('C:\\\\Users\\\\cemre\\\\Documents\\\\repos\\\\G2M_Insight_for_Cab_Investment_Firm_Project\\\\Datasets\\\\Cab_Data.csv')\n",
    "city_data = p.read_csv('C:\\\\Users\\\\cemre\\\\Documents\\\\repos\\\\G2M_Insight_for_Cab_Investment_Firm_Project\\\\Datasets\\\\City.csv')\n",
    "customer_data = p.read_csv('C:\\\\Users\\\\cemre\\\\Documents\\\\repos\\\\G2M_Insight_for_Cab_Investment_Firm_Project\\\\Datasets\\\\Customer_ID.csv')\n",
    "transaction_data = p.read_csv('C:\\\\Users\\\\cemre\\\\Documents\\\\repos\\\\G2M_Insight_for_Cab_Investment_Firm_Project\\\\Datasets\\\\Transaction_ID.csv')"
   ]
  },
  {
   "cell_type": "code",
   "execution_count": 3,
   "id": "9c038529-397b-491a-9103-b62ffb4d70ae",
   "metadata": {},
   "outputs": [
    {
     "name": "stdout",
     "output_type": "stream",
     "text": [
      "<class 'pandas.core.frame.DataFrame'>\n",
      "RangeIndex: 359392 entries, 0 to 359391\n",
      "Data columns (total 7 columns):\n",
      " #   Column          Non-Null Count   Dtype  \n",
      "---  ------          --------------   -----  \n",
      " 0   Transaction ID  359392 non-null  int64  \n",
      " 1   Date of Travel  359392 non-null  object \n",
      " 2   Company         359392 non-null  object \n",
      " 3   City            359392 non-null  object \n",
      " 4   KM Travelled    359392 non-null  float64\n",
      " 5   Price Charged   359392 non-null  float64\n",
      " 6   Cost of Trip    359392 non-null  float64\n",
      "dtypes: float64(3), int64(1), object(3)\n",
      "memory usage: 19.2+ MB\n"
     ]
    }
   ],
   "source": [
    "cab_data.info()"
   ]
  },
  {
   "cell_type": "code",
   "execution_count": 4,
   "id": "d9de7662-66e2-41e4-9319-8c6c1ef2bd41",
   "metadata": {},
   "outputs": [
    {
     "data": {
      "text/html": [
       "<div>\n",
       "<style scoped>\n",
       "    .dataframe tbody tr th:only-of-type {\n",
       "        vertical-align: middle;\n",
       "    }\n",
       "\n",
       "    .dataframe tbody tr th {\n",
       "        vertical-align: top;\n",
       "    }\n",
       "\n",
       "    .dataframe thead th {\n",
       "        text-align: right;\n",
       "    }\n",
       "</style>\n",
       "<table border=\"1\" class=\"dataframe\">\n",
       "  <thead>\n",
       "    <tr style=\"text-align: right;\">\n",
       "      <th></th>\n",
       "      <th>Transaction ID</th>\n",
       "      <th>Date of Travel</th>\n",
       "      <th>Company</th>\n",
       "      <th>City</th>\n",
       "      <th>KM Travelled</th>\n",
       "      <th>Price Charged</th>\n",
       "      <th>Cost of Trip</th>\n",
       "    </tr>\n",
       "  </thead>\n",
       "  <tbody>\n",
       "    <tr>\n",
       "      <th>0</th>\n",
       "      <td>10000011</td>\n",
       "      <td>1/8/2016</td>\n",
       "      <td>Pink Cab</td>\n",
       "      <td>ATLANTA GA</td>\n",
       "      <td>30.45</td>\n",
       "      <td>370.95</td>\n",
       "      <td>313.635</td>\n",
       "    </tr>\n",
       "    <tr>\n",
       "      <th>1</th>\n",
       "      <td>10000012</td>\n",
       "      <td>1/6/2016</td>\n",
       "      <td>Pink Cab</td>\n",
       "      <td>ATLANTA GA</td>\n",
       "      <td>28.62</td>\n",
       "      <td>358.52</td>\n",
       "      <td>334.854</td>\n",
       "    </tr>\n",
       "    <tr>\n",
       "      <th>2</th>\n",
       "      <td>10000013</td>\n",
       "      <td>1/2/2016</td>\n",
       "      <td>Pink Cab</td>\n",
       "      <td>ATLANTA GA</td>\n",
       "      <td>9.04</td>\n",
       "      <td>125.20</td>\n",
       "      <td>97.632</td>\n",
       "    </tr>\n",
       "    <tr>\n",
       "      <th>3</th>\n",
       "      <td>10000014</td>\n",
       "      <td>1/7/2016</td>\n",
       "      <td>Pink Cab</td>\n",
       "      <td>ATLANTA GA</td>\n",
       "      <td>33.17</td>\n",
       "      <td>377.40</td>\n",
       "      <td>351.602</td>\n",
       "    </tr>\n",
       "    <tr>\n",
       "      <th>4</th>\n",
       "      <td>10000015</td>\n",
       "      <td>1/3/2016</td>\n",
       "      <td>Pink Cab</td>\n",
       "      <td>ATLANTA GA</td>\n",
       "      <td>8.73</td>\n",
       "      <td>114.62</td>\n",
       "      <td>97.776</td>\n",
       "    </tr>\n",
       "  </tbody>\n",
       "</table>\n",
       "</div>"
      ],
      "text/plain": [
       "   Transaction ID Date of Travel   Company        City  KM Travelled  \\\n",
       "0        10000011       1/8/2016  Pink Cab  ATLANTA GA         30.45   \n",
       "1        10000012       1/6/2016  Pink Cab  ATLANTA GA         28.62   \n",
       "2        10000013       1/2/2016  Pink Cab  ATLANTA GA          9.04   \n",
       "3        10000014       1/7/2016  Pink Cab  ATLANTA GA         33.17   \n",
       "4        10000015       1/3/2016  Pink Cab  ATLANTA GA          8.73   \n",
       "\n",
       "   Price Charged  Cost of Trip  \n",
       "0         370.95       313.635  \n",
       "1         358.52       334.854  \n",
       "2         125.20        97.632  \n",
       "3         377.40       351.602  \n",
       "4         114.62        97.776  "
      ]
     },
     "execution_count": 4,
     "metadata": {},
     "output_type": "execute_result"
    }
   ],
   "source": [
    "cab_data.head()"
   ]
  },
  {
   "cell_type": "code",
   "execution_count": 5,
   "id": "a3c0768c-71ef-4ef9-b2fd-defd0585e80d",
   "metadata": {},
   "outputs": [
    {
     "name": "stdout",
     "output_type": "stream",
     "text": [
      "<class 'pandas.core.frame.DataFrame'>\n",
      "RangeIndex: 20 entries, 0 to 19\n",
      "Data columns (total 3 columns):\n",
      " #   Column      Non-Null Count  Dtype \n",
      "---  ------      --------------  ----- \n",
      " 0   City        20 non-null     object\n",
      " 1   Population  20 non-null     object\n",
      " 2   Users       20 non-null     object\n",
      "dtypes: object(3)\n",
      "memory usage: 608.0+ bytes\n"
     ]
    }
   ],
   "source": [
    "city_data.info()"
   ]
  },
  {
   "cell_type": "code",
   "execution_count": 6,
   "id": "3bc261b3-fddc-4491-8333-a97bfe301437",
   "metadata": {},
   "outputs": [
    {
     "name": "stdout",
     "output_type": "stream",
     "text": [
      "<class 'pandas.core.frame.DataFrame'>\n",
      "RangeIndex: 49171 entries, 0 to 49170\n",
      "Data columns (total 4 columns):\n",
      " #   Column              Non-Null Count  Dtype \n",
      "---  ------              --------------  ----- \n",
      " 0   Customer ID         49171 non-null  int64 \n",
      " 1   Gender              49171 non-null  object\n",
      " 2   Age                 49171 non-null  int64 \n",
      " 3   Income (USD/Month)  49171 non-null  int64 \n",
      "dtypes: int64(3), object(1)\n",
      "memory usage: 1.5+ MB\n"
     ]
    }
   ],
   "source": [
    "customer_data.info()"
   ]
  },
  {
   "cell_type": "code",
   "execution_count": 7,
   "id": "45c37cbf-9a62-499d-bc82-568947327b5b",
   "metadata": {},
   "outputs": [
    {
     "name": "stdout",
     "output_type": "stream",
     "text": [
      "<class 'pandas.core.frame.DataFrame'>\n",
      "RangeIndex: 440098 entries, 0 to 440097\n",
      "Data columns (total 3 columns):\n",
      " #   Column          Non-Null Count   Dtype \n",
      "---  ------          --------------   ----- \n",
      " 0   Transaction ID  440098 non-null  int64 \n",
      " 1   Customer ID     440098 non-null  int64 \n",
      " 2   Payment_Mode    440098 non-null  object\n",
      "dtypes: int64(2), object(1)\n",
      "memory usage: 10.1+ MB\n"
     ]
    }
   ],
   "source": [
    "transaction_data.info()"
   ]
  },
  {
   "cell_type": "code",
   "execution_count": 8,
   "id": "2658eee5-2f64-4cad-a106-b64c05060402",
   "metadata": {},
   "outputs": [
    {
     "data": {
      "text/plain": [
       "Transaction ID    0\n",
       "Date of Travel    0\n",
       "Company           0\n",
       "City              0\n",
       "KM Travelled      0\n",
       "Price Charged     0\n",
       "Cost of Trip      0\n",
       "dtype: int64"
      ]
     },
     "execution_count": 8,
     "metadata": {},
     "output_type": "execute_result"
    }
   ],
   "source": [
    "cab_data.isna().sum()"
   ]
  },
  {
   "cell_type": "code",
   "execution_count": 9,
   "id": "724d2d79-26e9-4a66-8414-e9b4fe9773cb",
   "metadata": {},
   "outputs": [
    {
     "data": {
      "text/plain": [
       "City          0\n",
       "Population    0\n",
       "Users         0\n",
       "dtype: int64"
      ]
     },
     "execution_count": 9,
     "metadata": {},
     "output_type": "execute_result"
    }
   ],
   "source": [
    "city_data.isna().sum()"
   ]
  },
  {
   "cell_type": "code",
   "execution_count": 10,
   "id": "bb998396-4453-4ac5-835d-9af7fa3d5574",
   "metadata": {},
   "outputs": [
    {
     "data": {
      "text/plain": [
       "Customer ID           0\n",
       "Gender                0\n",
       "Age                   0\n",
       "Income (USD/Month)    0\n",
       "dtype: int64"
      ]
     },
     "execution_count": 10,
     "metadata": {},
     "output_type": "execute_result"
    }
   ],
   "source": [
    "customer_data.isna().sum()"
   ]
  },
  {
   "cell_type": "code",
   "execution_count": 11,
   "id": "e03b2eee-e049-45fa-9e21-c58ba6666b0f",
   "metadata": {},
   "outputs": [
    {
     "data": {
      "text/plain": [
       "Transaction ID    0\n",
       "Customer ID       0\n",
       "Payment_Mode      0\n",
       "dtype: int64"
      ]
     },
     "execution_count": 11,
     "metadata": {},
     "output_type": "execute_result"
    }
   ],
   "source": [
    "transaction_data.isna().sum()"
   ]
  },
  {
   "cell_type": "code",
   "execution_count": 12,
   "id": "cd457c85-8274-47fc-852d-e5069be4678e",
   "metadata": {},
   "outputs": [
    {
     "data": {
      "text/html": [
       "<div>\n",
       "<style scoped>\n",
       "    .dataframe tbody tr th:only-of-type {\n",
       "        vertical-align: middle;\n",
       "    }\n",
       "\n",
       "    .dataframe tbody tr th {\n",
       "        vertical-align: top;\n",
       "    }\n",
       "\n",
       "    .dataframe thead th {\n",
       "        text-align: right;\n",
       "    }\n",
       "</style>\n",
       "<table border=\"1\" class=\"dataframe\">\n",
       "  <thead>\n",
       "    <tr style=\"text-align: right;\">\n",
       "      <th></th>\n",
       "      <th>Transaction ID</th>\n",
       "      <th>Date of Travel</th>\n",
       "      <th>Company</th>\n",
       "      <th>City</th>\n",
       "      <th>KM Travelled</th>\n",
       "      <th>Price Charged</th>\n",
       "      <th>Cost of Trip</th>\n",
       "    </tr>\n",
       "  </thead>\n",
       "  <tbody>\n",
       "  </tbody>\n",
       "</table>\n",
       "</div>"
      ],
      "text/plain": [
       "Empty DataFrame\n",
       "Columns: [Transaction ID, Date of Travel, Company, City, KM Travelled, Price Charged, Cost of Trip]\n",
       "Index: []"
      ]
     },
     "execution_count": 12,
     "metadata": {},
     "output_type": "execute_result"
    }
   ],
   "source": [
    "cab_data[cab_data.duplicated()]"
   ]
  },
  {
   "cell_type": "code",
   "execution_count": 13,
   "id": "98e7ffea-a3ba-4a9d-a2df-c7911515044f",
   "metadata": {},
   "outputs": [
    {
     "data": {
      "text/html": [
       "<div>\n",
       "<style scoped>\n",
       "    .dataframe tbody tr th:only-of-type {\n",
       "        vertical-align: middle;\n",
       "    }\n",
       "\n",
       "    .dataframe tbody tr th {\n",
       "        vertical-align: top;\n",
       "    }\n",
       "\n",
       "    .dataframe thead th {\n",
       "        text-align: right;\n",
       "    }\n",
       "</style>\n",
       "<table border=\"1\" class=\"dataframe\">\n",
       "  <thead>\n",
       "    <tr style=\"text-align: right;\">\n",
       "      <th></th>\n",
       "      <th>Customer ID</th>\n",
       "      <th>Gender</th>\n",
       "      <th>Age</th>\n",
       "      <th>Income (USD/Month)</th>\n",
       "    </tr>\n",
       "  </thead>\n",
       "  <tbody>\n",
       "  </tbody>\n",
       "</table>\n",
       "</div>"
      ],
      "text/plain": [
       "Empty DataFrame\n",
       "Columns: [Customer ID, Gender, Age, Income (USD/Month)]\n",
       "Index: []"
      ]
     },
     "execution_count": 13,
     "metadata": {},
     "output_type": "execute_result"
    }
   ],
   "source": [
    "customer_data[customer_data.duplicated()]"
   ]
  },
  {
   "cell_type": "code",
   "execution_count": 14,
   "id": "df175692-9796-4133-a73b-372d772b186d",
   "metadata": {},
   "outputs": [
    {
     "data": {
      "text/html": [
       "<div>\n",
       "<style scoped>\n",
       "    .dataframe tbody tr th:only-of-type {\n",
       "        vertical-align: middle;\n",
       "    }\n",
       "\n",
       "    .dataframe tbody tr th {\n",
       "        vertical-align: top;\n",
       "    }\n",
       "\n",
       "    .dataframe thead th {\n",
       "        text-align: right;\n",
       "    }\n",
       "</style>\n",
       "<table border=\"1\" class=\"dataframe\">\n",
       "  <thead>\n",
       "    <tr style=\"text-align: right;\">\n",
       "      <th></th>\n",
       "      <th>City</th>\n",
       "      <th>Population</th>\n",
       "      <th>Users</th>\n",
       "    </tr>\n",
       "  </thead>\n",
       "  <tbody>\n",
       "  </tbody>\n",
       "</table>\n",
       "</div>"
      ],
      "text/plain": [
       "Empty DataFrame\n",
       "Columns: [City, Population, Users]\n",
       "Index: []"
      ]
     },
     "execution_count": 14,
     "metadata": {},
     "output_type": "execute_result"
    }
   ],
   "source": [
    "city_data[city_data.duplicated()]"
   ]
  },
  {
   "cell_type": "code",
   "execution_count": 15,
   "id": "3b078230-3b71-4be1-adef-373a672d0836",
   "metadata": {},
   "outputs": [
    {
     "data": {
      "text/html": [
       "<div>\n",
       "<style scoped>\n",
       "    .dataframe tbody tr th:only-of-type {\n",
       "        vertical-align: middle;\n",
       "    }\n",
       "\n",
       "    .dataframe tbody tr th {\n",
       "        vertical-align: top;\n",
       "    }\n",
       "\n",
       "    .dataframe thead th {\n",
       "        text-align: right;\n",
       "    }\n",
       "</style>\n",
       "<table border=\"1\" class=\"dataframe\">\n",
       "  <thead>\n",
       "    <tr style=\"text-align: right;\">\n",
       "      <th></th>\n",
       "      <th>Transaction ID</th>\n",
       "      <th>Customer ID</th>\n",
       "      <th>Payment_Mode</th>\n",
       "    </tr>\n",
       "  </thead>\n",
       "  <tbody>\n",
       "  </tbody>\n",
       "</table>\n",
       "</div>"
      ],
      "text/plain": [
       "Empty DataFrame\n",
       "Columns: [Transaction ID, Customer ID, Payment_Mode]\n",
       "Index: []"
      ]
     },
     "execution_count": 15,
     "metadata": {},
     "output_type": "execute_result"
    }
   ],
   "source": [
    "transaction_data[transaction_data.duplicated()]"
   ]
  },
  {
   "cell_type": "code",
   "execution_count": 16,
   "id": "fd1306f2-ffd2-40ed-887d-09c5fd515aa8",
   "metadata": {},
   "outputs": [
    {
     "data": {
      "text/html": [
       "<div>\n",
       "<style scoped>\n",
       "    .dataframe tbody tr th:only-of-type {\n",
       "        vertical-align: middle;\n",
       "    }\n",
       "\n",
       "    .dataframe tbody tr th {\n",
       "        vertical-align: top;\n",
       "    }\n",
       "\n",
       "    .dataframe thead th {\n",
       "        text-align: right;\n",
       "    }\n",
       "</style>\n",
       "<table border=\"1\" class=\"dataframe\">\n",
       "  <thead>\n",
       "    <tr style=\"text-align: right;\">\n",
       "      <th></th>\n",
       "      <th>count</th>\n",
       "      <th>mean</th>\n",
       "      <th>std</th>\n",
       "      <th>min</th>\n",
       "      <th>25%</th>\n",
       "      <th>50%</th>\n",
       "      <th>75%</th>\n",
       "      <th>max</th>\n",
       "    </tr>\n",
       "  </thead>\n",
       "  <tbody>\n",
       "    <tr>\n",
       "      <th>Transaction ID</th>\n",
       "      <td>359392.0</td>\n",
       "      <td>1.022076e+07</td>\n",
       "      <td>126805.803715</td>\n",
       "      <td>10000011.0</td>\n",
       "      <td>1.011081e+07</td>\n",
       "      <td>10221035.50</td>\n",
       "      <td>1.033094e+07</td>\n",
       "      <td>10440107.00</td>\n",
       "    </tr>\n",
       "    <tr>\n",
       "      <th>KM Travelled</th>\n",
       "      <td>359392.0</td>\n",
       "      <td>2.256725e+01</td>\n",
       "      <td>12.233526</td>\n",
       "      <td>1.9</td>\n",
       "      <td>1.200000e+01</td>\n",
       "      <td>22.44</td>\n",
       "      <td>3.296000e+01</td>\n",
       "      <td>48.00</td>\n",
       "    </tr>\n",
       "    <tr>\n",
       "      <th>Price Charged</th>\n",
       "      <td>359392.0</td>\n",
       "      <td>4.234433e+02</td>\n",
       "      <td>274.378911</td>\n",
       "      <td>15.6</td>\n",
       "      <td>2.064375e+02</td>\n",
       "      <td>386.36</td>\n",
       "      <td>5.836600e+02</td>\n",
       "      <td>2048.03</td>\n",
       "    </tr>\n",
       "    <tr>\n",
       "      <th>Cost of Trip</th>\n",
       "      <td>359392.0</td>\n",
       "      <td>2.861901e+02</td>\n",
       "      <td>157.993661</td>\n",
       "      <td>19.0</td>\n",
       "      <td>1.512000e+02</td>\n",
       "      <td>282.48</td>\n",
       "      <td>4.136832e+02</td>\n",
       "      <td>691.20</td>\n",
       "    </tr>\n",
       "  </tbody>\n",
       "</table>\n",
       "</div>"
      ],
      "text/plain": [
       "                   count          mean            std         min  \\\n",
       "Transaction ID  359392.0  1.022076e+07  126805.803715  10000011.0   \n",
       "KM Travelled    359392.0  2.256725e+01      12.233526         1.9   \n",
       "Price Charged   359392.0  4.234433e+02     274.378911        15.6   \n",
       "Cost of Trip    359392.0  2.861901e+02     157.993661        19.0   \n",
       "\n",
       "                         25%          50%           75%          max  \n",
       "Transaction ID  1.011081e+07  10221035.50  1.033094e+07  10440107.00  \n",
       "KM Travelled    1.200000e+01        22.44  3.296000e+01        48.00  \n",
       "Price Charged   2.064375e+02       386.36  5.836600e+02      2048.03  \n",
       "Cost of Trip    1.512000e+02       282.48  4.136832e+02       691.20  "
      ]
     },
     "execution_count": 16,
     "metadata": {},
     "output_type": "execute_result"
    }
   ],
   "source": [
    "cab_data_numeric = cab_data.select_dtypes(include = 'number')\n",
    "cab_data_non_numeric = cab_data.select_dtypes(exclude = 'number')\n",
    "cab_data_numeric.describe().T"
   ]
  },
  {
   "cell_type": "code",
   "execution_count": 17,
   "id": "01539c90-2f9b-4da2-bc35-ef61d682054d",
   "metadata": {},
   "outputs": [
    {
     "data": {
      "text/html": [
       "<div>\n",
       "<style scoped>\n",
       "    .dataframe tbody tr th:only-of-type {\n",
       "        vertical-align: middle;\n",
       "    }\n",
       "\n",
       "    .dataframe tbody tr th {\n",
       "        vertical-align: top;\n",
       "    }\n",
       "\n",
       "    .dataframe thead th {\n",
       "        text-align: right;\n",
       "    }\n",
       "</style>\n",
       "<table border=\"1\" class=\"dataframe\">\n",
       "  <thead>\n",
       "    <tr style=\"text-align: right;\">\n",
       "      <th></th>\n",
       "      <th>count</th>\n",
       "      <th>mean</th>\n",
       "      <th>std</th>\n",
       "      <th>min</th>\n",
       "      <th>25%</th>\n",
       "      <th>50%</th>\n",
       "      <th>75%</th>\n",
       "      <th>max</th>\n",
       "    </tr>\n",
       "  </thead>\n",
       "  <tbody>\n",
       "    <tr>\n",
       "      <th>Customer ID</th>\n",
       "      <td>49171.0</td>\n",
       "      <td>28398.252283</td>\n",
       "      <td>17714.137333</td>\n",
       "      <td>1.0</td>\n",
       "      <td>12654.5</td>\n",
       "      <td>27631.0</td>\n",
       "      <td>43284.5</td>\n",
       "      <td>60000.0</td>\n",
       "    </tr>\n",
       "    <tr>\n",
       "      <th>Age</th>\n",
       "      <td>49171.0</td>\n",
       "      <td>35.363121</td>\n",
       "      <td>12.599066</td>\n",
       "      <td>18.0</td>\n",
       "      <td>25.0</td>\n",
       "      <td>33.0</td>\n",
       "      <td>42.0</td>\n",
       "      <td>65.0</td>\n",
       "    </tr>\n",
       "    <tr>\n",
       "      <th>Income (USD/Month)</th>\n",
       "      <td>49171.0</td>\n",
       "      <td>15015.631856</td>\n",
       "      <td>8002.208253</td>\n",
       "      <td>2000.0</td>\n",
       "      <td>8289.5</td>\n",
       "      <td>14656.0</td>\n",
       "      <td>21035.0</td>\n",
       "      <td>35000.0</td>\n",
       "    </tr>\n",
       "  </tbody>\n",
       "</table>\n",
       "</div>"
      ],
      "text/plain": [
       "                      count          mean           std     min      25%  \\\n",
       "Customer ID         49171.0  28398.252283  17714.137333     1.0  12654.5   \n",
       "Age                 49171.0     35.363121     12.599066    18.0     25.0   \n",
       "Income (USD/Month)  49171.0  15015.631856   8002.208253  2000.0   8289.5   \n",
       "\n",
       "                        50%      75%      max  \n",
       "Customer ID         27631.0  43284.5  60000.0  \n",
       "Age                    33.0     42.0     65.0  \n",
       "Income (USD/Month)  14656.0  21035.0  35000.0  "
      ]
     },
     "execution_count": 17,
     "metadata": {},
     "output_type": "execute_result"
    }
   ],
   "source": [
    "customer_data_numeric = customer_data.select_dtypes(include = 'number')\n",
    "customer_data_non_numeric = customer_data.select_dtypes(exclude = 'number')\n",
    "customer_data_numeric.describe().T"
   ]
  },
  {
   "cell_type": "code",
   "execution_count": 18,
   "id": "78388f80-0640-4d22-aca2-c6e2bf3204db",
   "metadata": {},
   "outputs": [
    {
     "data": {
      "text/html": [
       "<div>\n",
       "<style scoped>\n",
       "    .dataframe tbody tr th:only-of-type {\n",
       "        vertical-align: middle;\n",
       "    }\n",
       "\n",
       "    .dataframe tbody tr th {\n",
       "        vertical-align: top;\n",
       "    }\n",
       "\n",
       "    .dataframe thead th {\n",
       "        text-align: right;\n",
       "    }\n",
       "</style>\n",
       "<table border=\"1\" class=\"dataframe\">\n",
       "  <thead>\n",
       "    <tr style=\"text-align: right;\">\n",
       "      <th></th>\n",
       "      <th>count</th>\n",
       "      <th>mean</th>\n",
       "      <th>std</th>\n",
       "      <th>min</th>\n",
       "      <th>25%</th>\n",
       "      <th>50%</th>\n",
       "      <th>75%</th>\n",
       "      <th>max</th>\n",
       "    </tr>\n",
       "  </thead>\n",
       "  <tbody>\n",
       "    <tr>\n",
       "      <th>Transaction ID</th>\n",
       "      <td>440098.0</td>\n",
       "      <td>1.022006e+07</td>\n",
       "      <td>127045.493722</td>\n",
       "      <td>10000011.0</td>\n",
       "      <td>10110035.25</td>\n",
       "      <td>10220059.5</td>\n",
       "      <td>10330083.75</td>\n",
       "      <td>10440108.0</td>\n",
       "    </tr>\n",
       "    <tr>\n",
       "      <th>Customer ID</th>\n",
       "      <td>440098.0</td>\n",
       "      <td>2.361951e+04</td>\n",
       "      <td>21195.549816</td>\n",
       "      <td>1.0</td>\n",
       "      <td>3530.00</td>\n",
       "      <td>15168.0</td>\n",
       "      <td>43884.00</td>\n",
       "      <td>60000.0</td>\n",
       "    </tr>\n",
       "  </tbody>\n",
       "</table>\n",
       "</div>"
      ],
      "text/plain": [
       "                   count          mean            std         min  \\\n",
       "Transaction ID  440098.0  1.022006e+07  127045.493722  10000011.0   \n",
       "Customer ID     440098.0  2.361951e+04   21195.549816         1.0   \n",
       "\n",
       "                        25%         50%          75%         max  \n",
       "Transaction ID  10110035.25  10220059.5  10330083.75  10440108.0  \n",
       "Customer ID         3530.00     15168.0     43884.00     60000.0  "
      ]
     },
     "execution_count": 18,
     "metadata": {},
     "output_type": "execute_result"
    }
   ],
   "source": [
    "transaction_data_numeric = transaction_data.select_dtypes(include = 'number')\n",
    "transaction_data_non_numeric = transaction_data.select_dtypes(exclude = 'number')\n",
    "transaction_data_numeric.describe().T"
   ]
  },
  {
   "cell_type": "code",
   "execution_count": 19,
   "id": "c5058b90-c579-4aec-851c-2a690dbe0e65",
   "metadata": {},
   "outputs": [],
   "source": [
    "city_data_numeric = city_data.select_dtypes(include = 'number')\n",
    "city_data_non_numeric = city_data.select_dtypes(exclude = 'number')\n",
    "#no numeric values"
   ]
  },
  {
   "cell_type": "code",
   "execution_count": 20,
   "id": "f8519cdd-1596-4f09-bd96-1e6228d2a59c",
   "metadata": {},
   "outputs": [],
   "source": [
    "#changing attribute names (Cab_Data.csv)\n",
    "cab_data = cab_data.rename(columns={'Transaction ID':'Transaction_ID'})\n",
    "cab_data = cab_data.rename(columns={'Date of Travel':'Date_of_Travel'})\n",
    "cab_data = cab_data.rename(columns={'KM Travelled':'KM_Travelled'})\n",
    "cab_data = cab_data.rename(columns={'Price Charged':'Price_Charged'})\n",
    "cab_data = cab_data.rename(columns={'Cost of Trip':'Cost_of_Trip'})"
   ]
  },
  {
   "cell_type": "code",
   "execution_count": 21,
   "id": "c9c96f26-9d05-4ee6-a92c-014d7a16370d",
   "metadata": {},
   "outputs": [],
   "source": [
    "#changing attribute names (Customer_ID_csv)\n",
    "customer_data = customer_data.rename(columns={'Customer ID':'Customer_ID'})"
   ]
  },
  {
   "cell_type": "code",
   "execution_count": 22,
   "id": "75a95800-708b-416f-8603-05d92a95d969",
   "metadata": {},
   "outputs": [],
   "source": [
    "#changing attribute names (Transaction_ID.csv)\n",
    "transaction_data = transaction_data.rename(columns={'Customer ID':'Customer_ID'})\n",
    "transaction_data = transaction_data.rename(columns={'Transaction ID':'Transaction_ID'})"
   ]
  },
  {
   "cell_type": "code",
   "execution_count": 23,
   "id": "e7609f38-f455-4f19-99de-e7b44236abce",
   "metadata": {},
   "outputs": [
    {
     "name": "stdout",
     "output_type": "stream",
     "text": [
      "<class 'pandas.core.frame.DataFrame'>\n",
      "RangeIndex: 20 entries, 0 to 19\n",
      "Data columns (total 3 columns):\n",
      " #   Column      Non-Null Count  Dtype \n",
      "---  ------      --------------  ----- \n",
      " 0   City        20 non-null     object\n",
      " 1   Population  20 non-null     object\n",
      " 2   Users       20 non-null     object\n",
      "dtypes: object(3)\n",
      "memory usage: 608.0+ bytes\n"
     ]
    }
   ],
   "source": [
    "city_data.info()"
   ]
  },
  {
   "cell_type": "code",
   "execution_count": 24,
   "id": "73e2ef65-c09a-4e1b-8592-e59de80b3c4c",
   "metadata": {},
   "outputs": [
    {
     "name": "stdout",
     "output_type": "stream",
     "text": [
      "<class 'pandas.core.frame.DataFrame'>\n",
      "RangeIndex: 49171 entries, 0 to 49170\n",
      "Data columns (total 4 columns):\n",
      " #   Column              Non-Null Count  Dtype \n",
      "---  ------              --------------  ----- \n",
      " 0   Customer_ID         49171 non-null  int64 \n",
      " 1   Gender              49171 non-null  object\n",
      " 2   Age                 49171 non-null  int64 \n",
      " 3   Income (USD/Month)  49171 non-null  int64 \n",
      "dtypes: int64(3), object(1)\n",
      "memory usage: 1.5+ MB\n"
     ]
    }
   ],
   "source": [
    "customer_data.info()"
   ]
  },
  {
   "cell_type": "code",
   "execution_count": 25,
   "id": "06470f96-78a8-4156-8a84-da58cf712529",
   "metadata": {},
   "outputs": [
    {
     "name": "stdout",
     "output_type": "stream",
     "text": [
      "<class 'pandas.core.frame.DataFrame'>\n",
      "RangeIndex: 440098 entries, 0 to 440097\n",
      "Data columns (total 3 columns):\n",
      " #   Column          Non-Null Count   Dtype \n",
      "---  ------          --------------   ----- \n",
      " 0   Transaction_ID  440098 non-null  int64 \n",
      " 1   Customer_ID     440098 non-null  int64 \n",
      " 2   Payment_Mode    440098 non-null  object\n",
      "dtypes: int64(2), object(1)\n",
      "memory usage: 10.1+ MB\n"
     ]
    }
   ],
   "source": [
    "transaction_data.info()"
   ]
  },
  {
   "cell_type": "code",
   "execution_count": 26,
   "id": "d7176b72-dc5c-408e-b6aa-02979b92e51b",
   "metadata": {},
   "outputs": [
    {
     "name": "stdout",
     "output_type": "stream",
     "text": [
      "<class 'pandas.core.frame.DataFrame'>\n",
      "RangeIndex: 359392 entries, 0 to 359391\n",
      "Data columns (total 7 columns):\n",
      " #   Column          Non-Null Count   Dtype  \n",
      "---  ------          --------------   -----  \n",
      " 0   Transaction_ID  359392 non-null  int64  \n",
      " 1   Date_of_Travel  359392 non-null  object \n",
      " 2   Company         359392 non-null  object \n",
      " 3   City            359392 non-null  object \n",
      " 4   KM_Travelled    359392 non-null  float64\n",
      " 5   Price_Charged   359392 non-null  float64\n",
      " 6   Cost_of_Trip    359392 non-null  float64\n",
      "dtypes: float64(3), int64(1), object(3)\n",
      "memory usage: 19.2+ MB\n"
     ]
    }
   ],
   "source": [
    "cab_data.info()"
   ]
  },
  {
   "cell_type": "code",
   "execution_count": 27,
   "id": "c8f19287-c4d4-49c2-8ba8-5db340fc040d",
   "metadata": {},
   "outputs": [],
   "source": [
    "#adding new datasets which contain changed value names\n",
    "transaction_data.to_pickle('C:\\\\Users\\\\cemre\\\\Documents\\\\repos\\\\G2M_Insight_for_Cab_Investment_Firm_Project\\\\Datasets\\\\Transaction_ID.pkl')\n",
    "city_data.to_pickle('C:\\\\Users\\\\cemre\\\\Documents\\\\repos\\\\G2M_Insight_for_Cab_Investment_Firm_Project\\\\Datasets\\\\City.pkl')\n",
    "cab_data.to_pickle('C:\\\\Users\\\\cemre\\\\Documents\\\\repos\\\\G2M_Insight_for_Cab_Investment_Firm_Project\\\\Datasets\\\\Cab_Data.pkl')\n",
    "customer_data.to_pickle('C:\\\\Users\\\\cemre\\\\Documents\\\\repos\\\\G2M_Insight_for_Cab_Investment_Firm_Project\\\\Datasets\\\\Customer_ID.pkl')"
   ]
  }
 ],
 "metadata": {
  "kernelspec": {
   "display_name": "Python 3",
   "language": "python",
   "name": "python3"
  },
  "language_info": {
   "codemirror_mode": {
    "name": "ipython",
    "version": 3
   },
   "file_extension": ".py",
   "mimetype": "text/x-python",
   "name": "python",
   "nbconvert_exporter": "python",
   "pygments_lexer": "ipython3",
   "version": "3.8.8"
  }
 },
 "nbformat": 4,
 "nbformat_minor": 5
}
