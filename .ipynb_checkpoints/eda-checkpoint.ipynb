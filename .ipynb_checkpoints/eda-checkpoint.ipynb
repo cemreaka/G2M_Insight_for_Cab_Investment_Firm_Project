{
 "cells": [
  {
   "cell_type": "code",
   "execution_count": 10,
   "id": "c9579b51-45bb-442e-8d7c-9be6a421a9c0",
   "metadata": {},
   "outputs": [],
   "source": [
    "import pandas as p"
   ]
  },
  {
   "cell_type": "code",
   "execution_count": 11,
   "id": "18918033-3f40-4245-b562-c42cfe863e74",
   "metadata": {},
   "outputs": [],
   "source": [
    "cab_data = p.read_pickle('C:\\\\Users\\\\cemre\\\\Documents\\\\repos\\\\G2M_Insight_for_Cab_Investment_Firm_Project\\\\Datasets\\\\Cab_changed.pkl')\n",
    "city_data = p.read_pickle('C:\\\\Users\\\\cemre\\\\Documents\\\\repos\\\\G2M_Insight_for_Cab_Investment_Firm_Project\\\\Datasets\\\\City_ID_changed.pkl')\n",
    "customer_data = p.read_pickle('C:\\\\Users\\\\cemre\\\\Documents\\\\repos\\\\G2M_Insight_for_Cab_Investment_Firm_Project\\\\Datasets\\\\Customer_ID_changed.pkl')\n",
    "transaction_data = p.read_pickle('C:\\\\Users\\\\cemre\\\\Documents\\\\repos\\\\G2M_Insight_for_Cab_Investment_Firm_Project\\\\Datasets\\\\Transaction_ID_changed.pkl')"
   ]
  },
  {
   "cell_type": "code",
   "execution_count": 12,
   "id": "23bbb0ff-15ef-48c7-88f6-1cae18ca7565",
   "metadata": {},
   "outputs": [
    {
     "name": "stdout",
     "output_type": "stream",
     "text": [
      "<class 'pandas.core.frame.DataFrame'>\n",
      "RangeIndex: 359392 entries, 0 to 359391\n",
      "Data columns (total 7 columns):\n",
      " #   Column          Non-Null Count   Dtype  \n",
      "---  ------          --------------   -----  \n",
      " 0   Transaction_ID  359392 non-null  int64  \n",
      " 1   Date_of_Travel  359392 non-null  int64  \n",
      " 2   Company         359392 non-null  object \n",
      " 3   City            359392 non-null  object \n",
      " 4   KM_Travelled    359392 non-null  float64\n",
      " 5   Price_Charged   359392 non-null  float64\n",
      " 6   Cost_of_Trip    359392 non-null  float64\n",
      "dtypes: float64(3), int64(2), object(2)\n",
      "memory usage: 19.2+ MB\n"
     ]
    }
   ],
   "source": [
    "cab_data.info()"
   ]
  },
  {
   "cell_type": "code",
   "execution_count": 13,
   "id": "22ddc7d7-ceea-4969-a226-7637abba9015",
   "metadata": {},
   "outputs": [
    {
     "name": "stdout",
     "output_type": "stream",
     "text": [
      "<class 'pandas.core.frame.DataFrame'>\n",
      "RangeIndex: 20 entries, 0 to 19\n",
      "Data columns (total 3 columns):\n",
      " #   Column      Non-Null Count  Dtype \n",
      "---  ------      --------------  ----- \n",
      " 0   City        20 non-null     object\n",
      " 1   Population  20 non-null     object\n",
      " 2   Users       20 non-null     object\n",
      "dtypes: object(3)\n",
      "memory usage: 608.0+ bytes\n"
     ]
    }
   ],
   "source": [
    "city_data.info()"
   ]
  },
  {
   "cell_type": "code",
   "execution_count": 14,
   "id": "396242b2-e6ec-417c-836a-bea3af285992",
   "metadata": {},
   "outputs": [
    {
     "name": "stdout",
     "output_type": "stream",
     "text": [
      "<class 'pandas.core.frame.DataFrame'>\n",
      "RangeIndex: 49171 entries, 0 to 49170\n",
      "Data columns (total 4 columns):\n",
      " #   Column              Non-Null Count  Dtype \n",
      "---  ------              --------------  ----- \n",
      " 0   Customer_ID         49171 non-null  int64 \n",
      " 1   Gender              49171 non-null  object\n",
      " 2   Age                 49171 non-null  int64 \n",
      " 3   Income (USD/Month)  49171 non-null  int64 \n",
      "dtypes: int64(3), object(1)\n",
      "memory usage: 1.5+ MB\n"
     ]
    }
   ],
   "source": [
    "customer_data.info()"
   ]
  },
  {
   "cell_type": "code",
   "execution_count": 15,
   "id": "c8147e87-14c1-466f-9ee8-9c72b4b27da6",
   "metadata": {},
   "outputs": [
    {
     "name": "stdout",
     "output_type": "stream",
     "text": [
      "<class 'pandas.core.frame.DataFrame'>\n",
      "RangeIndex: 440098 entries, 0 to 440097\n",
      "Data columns (total 3 columns):\n",
      " #   Column          Non-Null Count   Dtype \n",
      "---  ------          --------------   ----- \n",
      " 0   Transaction_ID  440098 non-null  int64 \n",
      " 1   Customer_ID     440098 non-null  int64 \n",
      " 2   Payment_Mode    440098 non-null  object\n",
      "dtypes: int64(2), object(1)\n",
      "memory usage: 10.1+ MB\n"
     ]
    }
   ],
   "source": [
    "transaction_data.info()"
   ]
  },
  {
   "cell_type": "code",
   "execution_count": null,
   "id": "aa53a32a-1ea7-4e10-858a-fda24f833bf8",
   "metadata": {},
   "outputs": [],
   "source": []
  }
 ],
 "metadata": {
  "kernelspec": {
   "display_name": "Python 3",
   "language": "python",
   "name": "python3"
  },
  "language_info": {
   "codemirror_mode": {
    "name": "ipython",
    "version": 3
   },
   "file_extension": ".py",
   "mimetype": "text/x-python",
   "name": "python",
   "nbconvert_exporter": "python",
   "pygments_lexer": "ipython3",
   "version": "3.8.8"
  }
 },
 "nbformat": 4,
 "nbformat_minor": 5
}
