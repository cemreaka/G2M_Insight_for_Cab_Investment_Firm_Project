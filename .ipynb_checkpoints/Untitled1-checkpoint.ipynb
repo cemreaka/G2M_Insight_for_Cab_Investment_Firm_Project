{
 "cells": [
  {
   "cell_type": "code",
   "execution_count": null,
   "id": "637a579b-5ea3-4126-92f4-6fa8a984e4e4",
   "metadata": {},
   "outputs": [],
   "source": []
  }
 ],
 "metadata": {
  "kernelspec": {
   "display_name": "Python 3",
   "language": "python",
   "name": "python3"
  },
  "language_info": {
   "name": ""
  }
 },
 "nbformat": 4,
 "nbformat_minor": 5
}
